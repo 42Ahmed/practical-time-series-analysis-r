{
 "cells": [
  {
   "cell_type": "code",
   "execution_count": 4,
   "metadata": {
    "vscode": {
     "languageId": "r"
    }
   },
   "outputs": [],
   "source": [
    "phi=NULL\n",
    "phi[1:3]=c(1/2,1/9,-1/18)\n",
    "n=10000"
   ]
  },
  {
   "cell_type": "code",
   "execution_count": 10,
   "metadata": {
    "vscode": {
     "languageId": "r"
    }
   },
   "outputs": [
    {
     "data": {
      "text/html": [
       "<table class=\"dataframe\">\n",
       "<caption>A matrix: 3 × 3 of type dbl</caption>\n",
       "<tbody>\n",
       "\t<tr><td>1.0</td><td>0.8</td><td>0.6</td></tr>\n",
       "\t<tr><td>0.8</td><td>1.0</td><td>0.8</td></tr>\n",
       "\t<tr><td>0.6</td><td>0.8</td><td>1.0</td></tr>\n",
       "</tbody>\n",
       "</table>\n"
      ],
      "text/latex": [
       "A matrix: 3 × 3 of type dbl\n",
       "\\begin{tabular}{lll}\n",
       "\t 1.0 & 0.8 & 0.6\\\\\n",
       "\t 0.8 & 1.0 & 0.8\\\\\n",
       "\t 0.6 & 0.8 & 1.0\\\\\n",
       "\\end{tabular}\n"
      ],
      "text/markdown": [
       "\n",
       "A matrix: 3 × 3 of type dbl\n",
       "\n",
       "| 1.0 | 0.8 | 0.6 |\n",
       "| 0.8 | 1.0 | 0.8 |\n",
       "| 0.6 | 0.8 | 1.0 |\n",
       "\n"
      ],
      "text/plain": [
       "     [,1] [,2] [,3]\n",
       "[1,] 1.0  0.8  0.6 \n",
       "[2,] 0.8  1.0  0.8 \n",
       "[3,] 0.6  0.8  1.0 "
      ]
     },
     "metadata": {},
     "output_type": "display_data"
    }
   ],
   "source": [
    "R=matrix(1,3,3)\n",
    "R[1,2]=0.8\n",
    "R[1,3]=0.6\n",
    "R[2,1]=0.8\n",
    "R[2,3]=0.8\n",
    "R[3,1]=0.6\n",
    "R[3,2]=0.8\n",
    "R\n"
   ]
  },
  {
   "cell_type": "code",
   "execution_count": 18,
   "metadata": {
    "vscode": {
     "languageId": "r"
    }
   },
   "outputs": [
    {
     "data": {
      "text/html": [
       "<style>\n",
       ".list-inline {list-style: none; margin:0; padding: 0}\n",
       ".list-inline>li {display: inline-block}\n",
       ".list-inline>li:not(:last-child)::after {content: \"\\00b7\"; padding: 0 .5ex}\n",
       "</style>\n",
       "<ol class=list-inline><li>0.8</li><li>0.6</li><li>0.2</li></ol>\n"
      ],
      "text/latex": [
       "\\begin{enumerate*}\n",
       "\\item 0.8\n",
       "\\item 0.6\n",
       "\\item 0.2\n",
       "\\end{enumerate*}\n"
      ],
      "text/markdown": [
       "1. 0.8\n",
       "2. 0.6\n",
       "3. 0.2\n",
       "\n",
       "\n"
      ],
      "text/plain": [
       "[1] 0.8 0.6 0.2"
      ]
     },
     "metadata": {},
     "output_type": "display_data"
    }
   ],
   "source": [
    "r=c(0.8,0.6,0.2)\n",
    "r"
   ]
  },
  {
   "cell_type": "code",
   "execution_count": 11,
   "metadata": {
    "vscode": {
     "languageId": "r"
    }
   },
   "outputs": [
    {
     "data": {
      "text/html": [
       "<table class=\"dataframe\">\n",
       "<caption>A matrix: 3 × 1 of type dbl</caption>\n",
       "<tbody>\n",
       "\t<tr><td>0.8</td></tr>\n",
       "\t<tr><td>0.6</td></tr>\n",
       "\t<tr><td>0.2</td></tr>\n",
       "</tbody>\n",
       "</table>\n"
      ],
      "text/latex": [
       "A matrix: 3 × 1 of type dbl\n",
       "\\begin{tabular}{l}\n",
       "\t 0.8\\\\\n",
       "\t 0.6\\\\\n",
       "\t 0.2\\\\\n",
       "\\end{tabular}\n"
      ],
      "text/markdown": [
       "\n",
       "A matrix: 3 × 1 of type dbl\n",
       "\n",
       "| 0.8 |\n",
       "| 0.6 |\n",
       "| 0.2 |\n",
       "\n"
      ],
      "text/plain": [
       "     [,1]\n",
       "[1,] 0.8 \n",
       "[2,] 0.6 \n",
       "[3,] 0.2 "
      ]
     },
     "metadata": {},
     "output_type": "display_data"
    }
   ],
   "source": [
    "b = matrix(0,3,1)\n",
    "b[1,1]=0.8\n",
    "b[2,1]=0.6\n",
    "b[3,1]=0.2\n",
    "b"
   ]
  },
  {
   "cell_type": "code",
   "execution_count": 13,
   "metadata": {
    "vscode": {
     "languageId": "r"
    }
   },
   "outputs": [
    {
     "data": {
      "text/html": [
       "<table class=\"dataframe\">\n",
       "<caption>A matrix: 3 × 1 of type dbl</caption>\n",
       "<tbody>\n",
       "\t<tr><td> 0.8125</td></tr>\n",
       "\t<tr><td> 0.5000</td></tr>\n",
       "\t<tr><td>-0.6875</td></tr>\n",
       "</tbody>\n",
       "</table>\n"
      ],
      "text/latex": [
       "A matrix: 3 × 1 of type dbl\n",
       "\\begin{tabular}{l}\n",
       "\t  0.8125\\\\\n",
       "\t  0.5000\\\\\n",
       "\t -0.6875\\\\\n",
       "\\end{tabular}\n"
      ],
      "text/markdown": [
       "\n",
       "A matrix: 3 × 1 of type dbl\n",
       "\n",
       "|  0.8125 |\n",
       "|  0.5000 |\n",
       "| -0.6875 |\n",
       "\n"
      ],
      "text/plain": [
       "     [,1]   \n",
       "[1,]  0.8125\n",
       "[2,]  0.5000\n",
       "[3,] -0.6875"
      ]
     },
     "metadata": {},
     "output_type": "display_data"
    }
   ],
   "source": [
    "phi.hat=solve(R,b)\n",
    "phi.hat"
   ]
  },
  {
   "cell_type": "code",
   "execution_count": 19,
   "metadata": {
    "vscode": {
     "languageId": "r"
    }
   },
   "outputs": [
    {
     "data": {
      "text/html": [
       "0.9375"
      ],
      "text/latex": [
       "0.9375"
      ],
      "text/markdown": [
       "0.9375"
      ],
      "text/plain": [
       "[1] 0.9375"
      ]
     },
     "metadata": {},
     "output_type": "display_data"
    }
   ],
   "source": [
    "c0=5\n",
    "var.hat=c0*(1-sum(phi.hat*r))\n",
    "var.hat"
   ]
  },
  {
   "cell_type": "code",
   "execution_count": null,
   "metadata": {
    "vscode": {
     "languageId": "r"
    }
   },
   "outputs": [],
   "source": []
  }
 ],
 "metadata": {
  "kernelspec": {
   "display_name": "R",
   "language": "R",
   "name": "ir"
  },
  "language_info": {
   "codemirror_mode": "r",
   "file_extension": ".r",
   "mimetype": "text/x-r-source",
   "name": "R",
   "pygments_lexer": "r",
   "version": "4.1.3"
  },
  "orig_nbformat": 4
 },
 "nbformat": 4,
 "nbformat_minor": 2
}
